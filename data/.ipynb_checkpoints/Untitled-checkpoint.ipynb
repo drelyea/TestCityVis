{
 "cells": [
  {
   "cell_type": "code",
   "execution_count": 37,
   "metadata": {
    "collapsed": false
   },
   "outputs": [],
   "source": [
    "import pandas as pd\n",
    "import numpy as np\n",
    "import json\n",
    "\n",
    "with open('capital_and_nation_data.json') as file:\n",
    "    data = json.load(file)\n",
    "capital = []\n",
    "for result in data['capitals']:\n",
    "    capital.append({\n",
    "        'name' : result['name'],\n",
    "        'age' : +result['age'],\n",
    "        'foreign': +result['nativity_foreign'],\n",
    "        'numHouse': +result['people_per_household'],\n",
    "        'pop': +result['pop'],\n",
    "        'pop_white': +result['pop_white']/+result['pop'],\n",
    "        'employ' : +result['num_emp']/+result['pop'],\n",
    "        'grads': +result['grads_total']/+result['pop'],\n",
    "        'income' : +result['income'],\n",
    "    })\n",
    "result = data['nation']\n",
    "capital.append({\n",
    "    'name' : result['name'],\n",
    "    'age' : +result['age'],\n",
    "    'foreign': +result['nativity_foreign'],\n",
    "    'numHouse': +result['people_per_household'],\n",
    "    'pop': +result['pop'],\n",
    "    'pop_white': +result['pop_white']/+result['pop'],\n",
    "    'employ' : +result['num_emp']/+result['pop'],\n",
    "    'grads': +result['grads_total']/+result['pop'],\n",
    "    'income' : +result['income'],\n",
    "})"
   ]
  },
  {
   "cell_type": "code",
   "execution_count": 39,
   "metadata": {
    "collapsed": false,
    "scrolled": true
   },
   "outputs": [],
   "source": [
    "with open('data.json','w') as out:\n",
    "    json.dump(capital,out, indent = 4)"
   ]
  },
  {
   "cell_type": "code",
   "execution_count": null,
   "metadata": {
    "collapsed": true
   },
   "outputs": [],
   "source": []
  },
  {
   "cell_type": "code",
   "execution_count": null,
   "metadata": {
    "collapsed": true
   },
   "outputs": [],
   "source": []
  }
 ],
 "metadata": {
  "kernelspec": {
   "display_name": "Python 3",
   "language": "python",
   "name": "python3"
  },
  "language_info": {
   "codemirror_mode": {
    "name": "ipython",
    "version": 3
   },
   "file_extension": ".py",
   "mimetype": "text/x-python",
   "name": "python",
   "nbconvert_exporter": "python",
   "pygments_lexer": "ipython3",
   "version": "3.6.0"
  }
 },
 "nbformat": 4,
 "nbformat_minor": 2
}
